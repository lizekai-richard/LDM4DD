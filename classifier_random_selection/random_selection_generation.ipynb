{
 "cells": [
  {
   "cell_type": "code",
   "execution_count": 2,
   "metadata": {},
   "outputs": [],
   "source": [
    "import torch\n",
    "import torchvision\n",
    "from torch.utils.data import SubsetRandomSampler\n",
    "from torchvision import transforms\n",
    "import numpy as np"
   ]
  },
  {
   "cell_type": "code",
   "execution_count": 14,
   "metadata": {},
   "outputs": [],
   "source": [
    "def sample_indices(ipc, split):\n",
    "    if split == 'cifar10':\n",
    "        cifar_dataset = torchvision.datasets.CIFAR10(root=f'../cifar10', train=True)\n",
    "        num_classs = 10\n",
    "    else:\n",
    "        cifar_dataset = torchvision.datasets.CIFAR100(root=f'../cifar100', train=True)\n",
    "        num_classs = 100\n",
    "    indices = []\n",
    "\n",
    "    for class_idx in range(num_classs):\n",
    "        class_indices = np.where(np.array(cifar_dataset.targets) == class_idx)[0]\n",
    "        sampled_indices = np.random.choice(class_indices, ipc, replace=False)\n",
    "        indices.extend(sampled_indices)\n",
    "\n",
    "    indices = np.array(indices)\n",
    "    np.random.shuffle(indices)\n",
    "    np.savetxt(f'./random_ipc_index/{split}/ipc_{ipc}.txt', indices, fmt='%d')"
   ]
  },
  {
   "cell_type": "code",
   "execution_count": 30,
   "metadata": {},
   "outputs": [],
   "source": [
    "sample_indices(1, 'cifar10')"
   ]
  },
  {
   "cell_type": "code",
   "execution_count": 31,
   "metadata": {},
   "outputs": [],
   "source": [
    "sample_indices(50, 'cifar10')"
   ]
  },
  {
   "cell_type": "code",
   "execution_count": 32,
   "metadata": {},
   "outputs": [],
   "source": [
    "sample_indices(500, 'cifar10')"
   ]
  },
  {
   "cell_type": "code",
   "execution_count": 33,
   "metadata": {},
   "outputs": [],
   "source": [
    "sample_indices(1000, 'cifar10')"
   ]
  },
  {
   "cell_type": "markdown",
   "metadata": {},
   "source": [
    "Verify indices"
   ]
  },
  {
   "cell_type": "code",
   "execution_count": 35,
   "metadata": {},
   "outputs": [
    {
     "data": {
      "text/plain": [
       "array([24726,  9094, 42213, ..., 14137, 24313, 48237])"
      ]
     },
     "execution_count": 35,
     "metadata": {},
     "output_type": "execute_result"
    }
   ],
   "source": [
    "ipc1000 = np.loadtxt('./random_ipc_index/cifar10/ipc_1000.txt', dtype=int)\n",
    "ipc1000"
   ]
  },
  {
   "cell_type": "code",
   "execution_count": 36,
   "metadata": {},
   "outputs": [],
   "source": [
    "transform = transforms.Compose([\n",
    "                                # transforms.Resize(128),\n",
    "                                transforms.RandomHorizontalFlip(),\n",
    "                                transforms.ToTensor(),\n",
    "                                # image_normalize,\n",
    "                                transforms.Normalize(mean=[0.485, 0.456, 0.406], std=[0.229, 0.224, 0.225])\n",
    "                              ])\n",
    "\n",
    "cifar_dataset = torchvision.datasets.CIFAR10(root='../cifar10', train=True, transform=transform)\n",
    "batch_size = 64\n",
    "data_loader = torch.utils.data.DataLoader(\n",
    "    cifar_dataset, \n",
    "    batch_size=batch_size, \n",
    "    sampler=SubsetRandomSampler(ipc1000)\n",
    ")\n",
    "\n",
    "all_targets = []\n",
    "# Example usage of the data loader\n",
    "for batch_idx, (data, targets) in enumerate(data_loader):\n",
    "    all_targets.extend(targets.tolist())"
   ]
  },
  {
   "cell_type": "code",
   "execution_count": 37,
   "metadata": {},
   "outputs": [
    {
     "data": {
      "text/plain": [
       "Counter({3: 1000,\n",
       "         8: 1000,\n",
       "         7: 1000,\n",
       "         9: 1000,\n",
       "         1: 1000,\n",
       "         4: 1000,\n",
       "         2: 1000,\n",
       "         5: 1000,\n",
       "         0: 1000,\n",
       "         6: 1000})"
      ]
     },
     "execution_count": 37,
     "metadata": {},
     "output_type": "execute_result"
    }
   ],
   "source": [
    "from collections import Counter\n",
    "\n",
    "counter = Counter(all_targets)\n",
    "counter"
   ]
  },
  {
   "cell_type": "markdown",
   "metadata": {},
   "source": [
    "CIFAR100"
   ]
  },
  {
   "cell_type": "code",
   "execution_count": 15,
   "metadata": {},
   "outputs": [],
   "source": [
    "sample_indices(1, 'cifar100')"
   ]
  },
  {
   "cell_type": "code",
   "execution_count": 16,
   "metadata": {},
   "outputs": [],
   "source": [
    "sample_indices(10, 'cifar100')"
   ]
  },
  {
   "cell_type": "code",
   "execution_count": 17,
   "metadata": {},
   "outputs": [],
   "source": [
    "sample_indices(50, 'cifar100')"
   ]
  },
  {
   "cell_type": "code",
   "execution_count": 18,
   "metadata": {},
   "outputs": [
    {
     "data": {
      "text/plain": [
       "array([35640, 47103, 38839, ..., 48602, 17907, 37111])"
      ]
     },
     "execution_count": 18,
     "metadata": {},
     "output_type": "execute_result"
    }
   ],
   "source": [
    "ipc50 = np.loadtxt('./random_ipc_index/cifar100/ipc_50.txt', dtype=int)\n",
    "ipc50"
   ]
  },
  {
   "cell_type": "code",
   "execution_count": 19,
   "metadata": {},
   "outputs": [],
   "source": [
    "transform = transforms.Compose([\n",
    "                                # transforms.Resize(128),\n",
    "                                transforms.RandomHorizontalFlip(),\n",
    "                                transforms.ToTensor(),\n",
    "                                # image_normalize,\n",
    "                                transforms.Normalize(mean=[0.485, 0.456, 0.406], std=[0.229, 0.224, 0.225])\n",
    "                              ])\n",
    "\n",
    "cifar_dataset = torchvision.datasets.CIFAR100(root='../cifar100', train=True, transform=transform)\n",
    "batch_size = 64\n",
    "data_loader = torch.utils.data.DataLoader(\n",
    "    cifar_dataset, \n",
    "    batch_size=batch_size, \n",
    "    sampler=SubsetRandomSampler(ipc50)\n",
    ")\n",
    "\n",
    "all_targets = []\n",
    "# Example usage of the data loader\n",
    "for batch_idx, (data, targets) in enumerate(data_loader):\n",
    "    all_targets.extend(targets.tolist())"
   ]
  },
  {
   "cell_type": "code",
   "execution_count": 20,
   "metadata": {},
   "outputs": [
    {
     "data": {
      "text/plain": [
       "Counter({89: 50,\n",
       "         39: 50,\n",
       "         98: 50,\n",
       "         92: 50,\n",
       "         38: 50,\n",
       "         19: 50,\n",
       "         18: 50,\n",
       "         83: 50,\n",
       "         57: 50,\n",
       "         85: 50,\n",
       "         67: 50,\n",
       "         74: 50,\n",
       "         54: 50,\n",
       "         51: 50,\n",
       "         44: 50,\n",
       "         1: 50,\n",
       "         5: 50,\n",
       "         56: 50,\n",
       "         12: 50,\n",
       "         9: 50,\n",
       "         25: 50,\n",
       "         90: 50,\n",
       "         94: 50,\n",
       "         20: 50,\n",
       "         4: 50,\n",
       "         11: 50,\n",
       "         29: 50,\n",
       "         24: 50,\n",
       "         15: 50,\n",
       "         10: 50,\n",
       "         22: 50,\n",
       "         37: 50,\n",
       "         78: 50,\n",
       "         69: 50,\n",
       "         3: 50,\n",
       "         40: 50,\n",
       "         36: 50,\n",
       "         70: 50,\n",
       "         64: 50,\n",
       "         31: 50,\n",
       "         0: 50,\n",
       "         84: 50,\n",
       "         33: 50,\n",
       "         21: 50,\n",
       "         62: 50,\n",
       "         91: 50,\n",
       "         41: 50,\n",
       "         34: 50,\n",
       "         81: 50,\n",
       "         42: 50,\n",
       "         46: 50,\n",
       "         99: 50,\n",
       "         66: 50,\n",
       "         73: 50,\n",
       "         13: 50,\n",
       "         72: 50,\n",
       "         47: 50,\n",
       "         45: 50,\n",
       "         43: 50,\n",
       "         58: 50,\n",
       "         28: 50,\n",
       "         61: 50,\n",
       "         88: 50,\n",
       "         96: 50,\n",
       "         14: 50,\n",
       "         17: 50,\n",
       "         65: 50,\n",
       "         93: 50,\n",
       "         52: 50,\n",
       "         63: 50,\n",
       "         95: 50,\n",
       "         59: 50,\n",
       "         48: 50,\n",
       "         87: 50,\n",
       "         16: 50,\n",
       "         97: 50,\n",
       "         82: 50,\n",
       "         53: 50,\n",
       "         8: 50,\n",
       "         30: 50,\n",
       "         55: 50,\n",
       "         76: 50,\n",
       "         6: 50,\n",
       "         80: 50,\n",
       "         49: 50,\n",
       "         35: 50,\n",
       "         27: 50,\n",
       "         50: 50,\n",
       "         71: 50,\n",
       "         2: 50,\n",
       "         60: 50,\n",
       "         79: 50,\n",
       "         7: 50,\n",
       "         86: 50,\n",
       "         23: 50,\n",
       "         68: 50,\n",
       "         32: 50,\n",
       "         26: 50,\n",
       "         77: 50,\n",
       "         75: 50})"
      ]
     },
     "execution_count": 20,
     "metadata": {},
     "output_type": "execute_result"
    }
   ],
   "source": [
    "from collections import Counter\n",
    "\n",
    "counter = Counter(all_targets)\n",
    "counter"
   ]
  }
 ],
 "metadata": {
  "kernelspec": {
   "display_name": "CS5340",
   "language": "python",
   "name": "python3"
  },
  "language_info": {
   "codemirror_mode": {
    "name": "ipython",
    "version": 3
   },
   "file_extension": ".py",
   "mimetype": "text/x-python",
   "name": "python",
   "nbconvert_exporter": "python",
   "pygments_lexer": "ipython3",
   "version": "3.8.10"
  }
 },
 "nbformat": 4,
 "nbformat_minor": 2
}

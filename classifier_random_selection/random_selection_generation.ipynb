{
 "cells": [
  {
   "cell_type": "code",
   "execution_count": 28,
   "metadata": {},
   "outputs": [],
   "source": [
    "import torch\n",
    "import torchvision\n",
    "from torch.utils.data import SubsetRandomSampler\n",
    "from torchvision import transforms\n",
    "import numpy as np"
   ]
  },
  {
   "cell_type": "code",
   "execution_count": 29,
   "metadata": {},
   "outputs": [],
   "source": [
    "def sample_indices(ipc):\n",
    "    cifar_dataset = torchvision.datasets.CIFAR10(root='../cifar10', train=True)\n",
    "    indices = []\n",
    "\n",
    "    for class_idx in range(10):\n",
    "        class_indices = np.where(np.array(cifar_dataset.targets) == class_idx)[0]\n",
    "        sampled_indices = np.random.choice(class_indices, ipc, replace=False)\n",
    "        indices.extend(sampled_indices)\n",
    "\n",
    "    indices = np.array(indices)\n",
    "    np.random.shuffle(indices)\n",
    "    np.savetxt(f'./random_ipc_index/ipc_{ipc}.txt', indices, fmt='%d')"
   ]
  },
  {
   "cell_type": "code",
   "execution_count": 30,
   "metadata": {},
   "outputs": [],
   "source": [
    "sample_indices(1)"
   ]
  },
  {
   "cell_type": "code",
   "execution_count": 31,
   "metadata": {},
   "outputs": [],
   "source": [
    "sample_indices(50)"
   ]
  },
  {
   "cell_type": "code",
   "execution_count": 32,
   "metadata": {},
   "outputs": [],
   "source": [
    "sample_indices(500)"
   ]
  },
  {
   "cell_type": "code",
   "execution_count": 33,
   "metadata": {},
   "outputs": [],
   "source": [
    "sample_indices(1000)"
   ]
  },
  {
   "cell_type": "markdown",
   "metadata": {},
   "source": [
    "Verify indices"
   ]
  },
  {
   "cell_type": "code",
   "execution_count": 35,
   "metadata": {},
   "outputs": [
    {
     "data": {
      "text/plain": [
       "array([24726,  9094, 42213, ..., 14137, 24313, 48237])"
      ]
     },
     "execution_count": 35,
     "metadata": {},
     "output_type": "execute_result"
    }
   ],
   "source": [
    "ipc1000 = np.loadtxt('./random_ipc_index/ipc_1000.txt', dtype=int)\n",
    "ipc1000"
   ]
  },
  {
   "cell_type": "code",
   "execution_count": 36,
   "metadata": {},
   "outputs": [],
   "source": [
    "transform = transforms.Compose([\n",
    "                                # transforms.Resize(128),\n",
    "                                transforms.RandomHorizontalFlip(),\n",
    "                                transforms.ToTensor(),\n",
    "                                # image_normalize,\n",
    "                                transforms.Normalize(mean=[0.485, 0.456, 0.406], std=[0.229, 0.224, 0.225])\n",
    "                              ])\n",
    "\n",
    "cifar_dataset = torchvision.datasets.CIFAR10(root='../cifar10', train=True, transform=transform)\n",
    "batch_size = 64\n",
    "data_loader = torch.utils.data.DataLoader(\n",
    "    cifar_dataset, \n",
    "    batch_size=batch_size, \n",
    "    sampler=SubsetRandomSampler(ipc1000)\n",
    ")\n",
    "\n",
    "all_targets = []\n",
    "# Example usage of the data loader\n",
    "for batch_idx, (data, targets) in enumerate(data_loader):\n",
    "    all_targets.extend(targets.tolist())"
   ]
  },
  {
   "cell_type": "code",
   "execution_count": 37,
   "metadata": {},
   "outputs": [
    {
     "data": {
      "text/plain": [
       "Counter({3: 1000,\n",
       "         8: 1000,\n",
       "         7: 1000,\n",
       "         9: 1000,\n",
       "         1: 1000,\n",
       "         4: 1000,\n",
       "         2: 1000,\n",
       "         5: 1000,\n",
       "         0: 1000,\n",
       "         6: 1000})"
      ]
     },
     "execution_count": 37,
     "metadata": {},
     "output_type": "execute_result"
    }
   ],
   "source": [
    "from collections import Counter\n",
    "\n",
    "counter = Counter(all_targets)\n",
    "counter"
   ]
  }
 ],
 "metadata": {
  "kernelspec": {
   "display_name": "CS5340",
   "language": "python",
   "name": "python3"
  },
  "language_info": {
   "codemirror_mode": {
    "name": "ipython",
    "version": 3
   },
   "file_extension": ".py",
   "mimetype": "text/x-python",
   "name": "python",
   "nbconvert_exporter": "python",
   "pygments_lexer": "ipython3",
   "version": "3.8.10"
  }
 },
 "nbformat": 4,
 "nbformat_minor": 2
}

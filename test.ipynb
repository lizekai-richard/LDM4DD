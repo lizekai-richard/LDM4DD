{
 "cells": [
  {
   "cell_type": "code",
   "execution_count": 1,
   "metadata": {},
   "outputs": [
    {
     "name": "stdout",
     "output_type": "stream",
     "text": [
      "Note: you may need to restart the kernel to use updated packages.\n"
     ]
    }
   ],
   "source": [
    "%pip install --upgrade scikit-image torch torchvision torchaudio kornia pytorch-lightning lightning wandb>=0.12.10 diffusers[\"torch\"] transformers einops matplotlib requests click ema_pytorch pytorch_fid"
   ]
  },
  {
   "cell_type": "code",
   "execution_count": 2,
   "metadata": {},
   "outputs": [],
   "source": [
    "import os\n",
    "import argparse\n",
    "import random\n",
    "import torch\n",
    "import uuid\n",
    "import numpy as np\n",
    "from tqdm import tqdm\n",
    "from classifier_free.DDPM import GaussianDiffusion\n",
    "from classifier_free.UNet import Unet\n",
    "import torchvision.transforms as T\n",
    "# os.environ[\"CUDA_VISIBLE_DEVICES\"]=\"3\"\n",
    "IDX2CLASS = ['apple', 'aquarium_fish', 'baby', 'bear', 'beaver', 'bed', 'bee', 'beetle', 'bicycle', 'bottle', 'bowl', 'boy', 'bridge', 'bus', 'butterfly', 'camel', 'can', 'castle', 'caterpillar', 'cattle', 'chair', 'chimpanzee', 'clock', 'cloud', 'cockroach', 'couch', 'crab', 'crocodile', 'cup', 'dinosaur', 'dolphin', 'elephant', 'flatfish', 'forest', 'fox', 'girl', 'hamster', 'house', 'kangaroo', 'keyboard', 'lamp', 'lawn_mower', 'leopard', 'lion', 'lizard', 'lobster', 'man', 'maple_tree', 'motorcycle', 'mountain', 'mouse', 'mushroom', 'oak_tree', 'orange', 'orchid', 'otter', 'palm_tree', 'pear', 'pickup_truck', 'pine_tree', 'plain', 'plate', 'poppy', 'porcupine', 'possum', 'rabbit', 'raccoon', 'ray', 'road', 'rocket', 'rose', 'sea', 'seal', 'shark', 'shrew', 'skunk', 'skyscraper', 'snail', 'snake', 'spider', 'squirrel', 'streetcar', 'sunflower', 'sweet_pepper', 'table', 'tank', 'telephone', 'television', 'tiger', 'tractor', 'train', 'trout', 'tulip', 'turtle', 'wardrobe', 'whale', 'willow_tree', 'wolf', 'woman', 'worm']\n",
    "\n",
    "def manual_seed(seed=0):\n",
    "    random.seed(seed)\n",
    "    os.environ['PYTHONHASHSEED'] = str(seed)\n",
    "    np.random.seed(seed)\n",
    "    torch.manual_seed(seed)\n",
    "    torch.cuda.manual_seed(seed)\n",
    "    torch.cuda.manual_seed_all(seed)\n",
    "\n",
    "\n",
    "def conditional_sample(args):\n",
    "    manual_seed(42)\n",
    "    device = torch.device(\"cuda\") if torch.cuda.is_available() else torch.device(\"cpu\")\n",
    "    \n",
    "    model = Unet(\n",
    "        dim=64,\n",
    "        num_classes=100,\n",
    "        dim_mults=(1, 2, 4, 8)\n",
    "    )\n",
    "\n",
    "    diffusion = GaussianDiffusion(\n",
    "        model,\n",
    "        image_size=32,\n",
    "        timesteps=args.num_timesteps,  # number of steps\n",
    "        sampling_timesteps=args.num_sampling_steps\n",
    "    ).to(device)\n",
    "\n",
    "    checkpoint = torch.load(args.ckpt_path, map_location=device)\n",
    "    diffusion.load_state_dict(checkpoint['model'])\n",
    "\n",
    "    for label in range(100):\n",
    "        save_dir = \"./CIFAR100\" + \"/ipc\" + str(args.ipc) + \"/\" + IDX2CLASS[label]\n",
    "        if not os.path.exists(save_dir):\n",
    "            os.makedirs(save_dir)\n",
    "\n",
    "        to_image = T.ToPILImage()\n",
    "\n",
    "        if args.ipc > 50:\n",
    "            batch_size = 32\n",
    "        else:\n",
    "            batch_size = 4\n",
    "\n",
    "        num_batches = args.ipc // batch_size\n",
    "\n",
    "        for i in tqdm(range(num_batches)):\n",
    "            condition = torch.tensor([int(label) for _ in range(args.ipc)], dtype=torch.long).to(device)\n",
    "            syn_images = diffusion.sample(condition)\n",
    "            syn_images = syn_images.detach().cpu()\n",
    "\n",
    "            for _ in range(batch_size):\n",
    "                _id = str(uuid.uuid4())\n",
    "                image = to_image(syn_images[i])\n",
    "                save_path = os.path.join(save_dir, _id + \".png\")\n",
    "                image.save(save_path)\n",
    "        \n",
    "        condition = torch.tensor([int(label) for _ in range(args.ipc - num_batches * batch_size)], dtype=torch.long).to(device)\n",
    "        syn_images = diffusion.sample(condition)\n",
    "        syn_images = syn_images.detach().cpu()\n",
    "\n",
    "        for _ in range(batch_size):\n",
    "            _id = str(uuid.uuid4())\n",
    "            image = to_image(syn_images[i])\n",
    "            save_path = os.path.join(save_dir, _id + \".png\")\n",
    "            image.save(save_path)"
   ]
  },
  {
   "cell_type": "code",
   "execution_count": 6,
   "metadata": {},
   "outputs": [
    {
     "name": "stderr",
     "output_type": "stream",
     "text": [
      "usage: ipykernel_launcher.py [-h] [--ckpt_path CKPT_PATH] [--ipc IPC]\n",
      "                             [--num_timesteps NUM_TIMESTEPS]\n",
      "                             [--num_sampling_steps NUM_SAMPLING_STEPS]\n",
      "ipykernel_launcher.py: error: unrecognized arguments: --f=/home/yulong/.local/share/jupyter/runtime/kernel-v2-870989JFRy7Eu6i5Q1.json\n"
     ]
    },
    {
     "ename": "SystemExit",
     "evalue": "2",
     "output_type": "error",
     "traceback": [
      "An exception has occurred, use %tb to see the full traceback.\n",
      "\u001b[0;31mSystemExit\u001b[0m\u001b[0;31m:\u001b[0m 2\n"
     ]
    },
    {
     "name": "stderr",
     "output_type": "stream",
     "text": [
      "/home/yulong/.pyenv/versions/3.11.8/lib/python3.11/site-packages/IPython/core/interactiveshell.py:3585: UserWarning: To exit: use 'exit', 'quit', or Ctrl-D.\n",
      "  warn(\"To exit: use 'exit', 'quit', or Ctrl-D.\", stacklevel=1)\n"
     ]
    }
   ],
   "source": [
    "parser = argparse.ArgumentParser()\n",
    "parser.add_argument(\"--ckpt_path\", type=str, default=\"/saved_model/model-1.pt\")\n",
    "parser.add_argument(\"--ipc\", type=int, default=1)\n",
    "parser.add_argument(\"--num_timesteps\", type=int, default=1000)\n",
    "parser.add_argument(\"--num_sampling_steps\", type=int, default=250)\n",
    "args = parser.parse_args()\n",
    "\n",
    "conditional_sample(args)"
   ]
  },
  {
   "cell_type": "code",
   "execution_count": null,
   "metadata": {},
   "outputs": [],
   "source": []
  }
 ],
 "metadata": {
  "kernelspec": {
   "display_name": "Python 3",
   "language": "python",
   "name": "python3"
  },
  "language_info": {
   "codemirror_mode": {
    "name": "ipython",
    "version": 3
   },
   "file_extension": ".py",
   "mimetype": "text/x-python",
   "name": "python",
   "nbconvert_exporter": "python",
   "pygments_lexer": "ipython3",
   "version": "3.11.8"
  }
 },
 "nbformat": 4,
 "nbformat_minor": 2
}

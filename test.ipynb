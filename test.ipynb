{
 "cells": [
  {
   "cell_type": "code",
   "execution_count": 1,
   "metadata": {},
   "outputs": [
    {
     "name": "stdout",
     "output_type": "stream",
     "text": [
      "Note: you may need to restart the kernel to use updated packages.\n"
     ]
    }
   ],
   "source": [
    "%pip install --upgrade scikit-image torch torchvision torchaudio kornia pytorch-lightning lightning wandb>=0.12.10 diffusers[\"torch\"] transformers einops matplotlib requests click"
   ]
  },
  {
   "cell_type": "code",
   "execution_count": 13,
   "metadata": {},
   "outputs": [],
   "source": [
    "import argparse\n",
    "\n",
    "parser = argparse.ArgumentParser()\n",
    "parser.add_argument(\"--crop_size\", type=int, default=64)\n",
    "parser.add_argument(\"--train_data_path\", type=str, default=\"temp/train/data/0/\")\n",
    "parser.add_argument(\"--val_data_path\", type=str, default=\"temp/validation/data/0/\")\n",
    "parser.add_argument(\"--save_path\", type=str, default=\"temp/save/model\")\n",
    "parser.add_argument(\"--save_freq\", type=int, default=200)\n",
    "parser.add_argument(\"--top_k\", type=int, default=1)\n",
    "parser.add_argument(\"--lr\", type=float, default=0.01)\n",
    "parser.add_argument(\"--batch_size\", type=int, default=1)\n",
    "parser.add_argument(\"--num_epochs\", type=int, default=10)\n",
    "parser.add_argument(\"--max_steps\", type=int, default=1000)\n",
    "parser.add_argument(\"--log_steps\", type=int, default=100)\n",
    "parser.add_argument(\"--num_timesteps\", type=int, default=100)\n",
    "parser.add_argument(\"--warmup_steps\", type=int, default=100)\n",
    "parser.add_argument(\"--accelerator\", type=str, default=\"cpu\")\n",
    "#parser.add_argument(\"--devices\", type=str, default=1)\n",
    "\n",
    "args = parser.parse_args(args=[])"
   ]
  },
  {
   "cell_type": "code",
   "execution_count": 14,
   "metadata": {},
   "outputs": [],
   "source": [
    "import argparse\n",
    "import pytorch_lightning as pl\n",
    "import kornia.augmentation as KA\n",
    "from pytorch_lightning.loggers import WandbLogger\n",
    "from pytorch_lightning.callbacks import ModelCheckpoint\n",
    "from diffusion.LatentDiffusion import LatentDiffusionConditional\n",
    "from datasets.example_dataset import ExampleImageDataset\n",
    "from utils.EMA import EMA\n",
    "\n",
    "\n",
    "def train(args):\n",
    "    transform = [\n",
    "        #KA.RandomCrop((2 * args.crop_size, 2 * args.crop_size)),\n",
    "        KA.Resize((args.crop_size, args.crop_size), antialias=True),\n",
    "        KA.RandomVerticalFlip()\n",
    "    ]\n",
    "\n",
    "    train_ds = ExampleImageDataset(args.train_data_path,\n",
    "                                   transforms=transform,\n",
    "                                   conditional=True)\n",
    "    val_ds = ExampleImageDataset(args.val_data_path,\n",
    "                                 transforms=transform,\n",
    "                                 conditional=True)\n",
    "\n",
    "    model = LatentDiffusionConditional(train_dataset=train_ds,\n",
    "                                       valid_dataset=val_ds,\n",
    "                                       num_timesteps=args.num_timesteps,\n",
    "                                       lr=args.lr,\n",
    "                                       num_warmup_steps=args.warmup_steps,\n",
    "                                       num_epochs=args.num_epochs,\n",
    "                                       batch_size=args.batch_size)\n",
    "\n",
    "    wandb_logger = WandbLogger(project=\"CS5340\")\n",
    "    wandb_logger.experiment.config[\"key\"] = \"33da90c88f8e092fbf39fa7ad18e3125504b51a6\"\n",
    "\n",
    "    trainer = pl.Trainer(\n",
    "        max_steps=args.max_steps,\n",
    "        max_epochs=args.num_epochs,\n",
    "        callbacks=[\n",
    "            EMA(0.9999),\n",
    "            ModelCheckpoint(\n",
    "                dirpath=args.save_path,\n",
    "                every_n_epochs=args.save_freq,\n",
    "                save_top_k=args.top_k\n",
    "            )],\n",
    "        accelerator=args.accelerator,\n",
    "        #devices=args.devices,\n",
    "        logger=wandb_logger,\n",
    "        log_every_n_steps=args.log_steps\n",
    "    )\n",
    "\n",
    "    trainer.fit(model)\n",
    "\n",
    "    trainer.save_checkpoint(args.save_path)"
   ]
  },
  {
   "cell_type": "code",
   "execution_count": 15,
   "metadata": {},
   "outputs": [
    {
     "data": {
      "application/vnd.jupyter.widget-view+json": {
       "model_id": "28a780caa2854e16a74222a55b0887a3",
       "version_major": 2,
       "version_minor": 0
      },
      "text/plain": [
       "config.json:   0%|          | 0.00/547 [00:00<?, ?B/s]"
      ]
     },
     "metadata": {},
     "output_type": "display_data"
    },
    {
     "data": {
      "application/vnd.jupyter.widget-view+json": {
       "model_id": "6666143ceb6643428dd077ee6e217a9c",
       "version_major": 2,
       "version_minor": 0
      },
      "text/plain": [
       "diffusion_pytorch_model.safetensors:   0%|          | 0.00/335M [00:00<?, ?B/s]"
      ]
     },
     "metadata": {},
     "output_type": "display_data"
    },
    {
     "name": "stdout",
     "output_type": "stream",
     "text": [
      "Is Time embed used ?  True\n"
     ]
    },
    {
     "name": "stderr",
     "output_type": "stream",
     "text": [
      "Failed to detect the name of this notebook, you can set it manually with the WANDB_NOTEBOOK_NAME environment variable to enable code saving.\n",
      "\u001b[34m\u001b[1mwandb\u001b[0m: Logging into wandb.ai. (Learn how to deploy a W&B server locally: https://wandb.me/wandb-server)\n",
      "\u001b[34m\u001b[1mwandb\u001b[0m: You can find your API key in your browser here: https://wandb.ai/authorize\n",
      "\u001b[34m\u001b[1mwandb\u001b[0m: Paste an API key from your profile and hit enter, or press ctrl+c to quit:\u001b[34m\u001b[1mwandb\u001b[0m: Appending key for api.wandb.ai to your netrc file: /Users/yulong/.netrc\n"
     ]
    },
    {
     "data": {
      "text/html": [
       "Tracking run with wandb version 0.16.4"
      ],
      "text/plain": [
       "<IPython.core.display.HTML object>"
      ]
     },
     "metadata": {},
     "output_type": "display_data"
    },
    {
     "data": {
      "text/html": [
       "Run data is saved locally in <code>./wandb/run-20240322_170648-87t8u6pl</code>"
      ],
      "text/plain": [
       "<IPython.core.display.HTML object>"
      ]
     },
     "metadata": {},
     "output_type": "display_data"
    },
    {
     "data": {
      "text/html": [
       "Syncing run <strong><a href='https://wandb.ai/cs5340/CS5340/runs/87t8u6pl' target=\"_blank\">dark-serenity-16</a></strong> to <a href='https://wandb.ai/cs5340/CS5340' target=\"_blank\">Weights & Biases</a> (<a href='https://wandb.me/run' target=\"_blank\">docs</a>)<br/>"
      ],
      "text/plain": [
       "<IPython.core.display.HTML object>"
      ]
     },
     "metadata": {},
     "output_type": "display_data"
    },
    {
     "data": {
      "text/html": [
       " View project at <a href='https://wandb.ai/cs5340/CS5340' target=\"_blank\">https://wandb.ai/cs5340/CS5340</a>"
      ],
      "text/plain": [
       "<IPython.core.display.HTML object>"
      ]
     },
     "metadata": {},
     "output_type": "display_data"
    },
    {
     "data": {
      "text/html": [
       " View run at <a href='https://wandb.ai/cs5340/CS5340/runs/87t8u6pl' target=\"_blank\">https://wandb.ai/cs5340/CS5340/runs/87t8u6pl</a>"
      ],
      "text/plain": [
       "<IPython.core.display.HTML object>"
      ]
     },
     "metadata": {},
     "output_type": "display_data"
    },
    {
     "name": "stderr",
     "output_type": "stream",
     "text": [
      "/Users/yulong/Desktop/NUS/Year 3/Sem 2/CS5340/project/LDM4DD/utils/EMA.py:58: UserWarning: EMA has better performance when Apex is installed: https://github.com/NVIDIA/apex#installation.\n",
      "  rank_zero_warn(\n",
      "GPU available: True (mps), used: False\n",
      "TPU available: False, using: 0 TPU cores\n",
      "IPU available: False, using: 0 IPUs\n",
      "HPU available: False, using: 0 HPUs\n",
      "/Users/yulong/Desktop/fyp/nqs-tf2/.conda/lib/python3.10/site-packages/pytorch_lightning/trainer/setup.py:187: GPU available but not used. You can set it by doing `Trainer(accelerator='gpu')`.\n",
      "\n",
      "  | Name  | Type                                 | Params\n",
      "---------------------------------------------------------------\n",
      "0 | ae    | AutoEncoder                          | 83.7 M\n",
      "1 | model | DenoisingDiffusionConditionalProcess | 56.6 M\n",
      "---------------------------------------------------------------\n",
      "140 M     Trainable params\n",
      "0         Non-trainable params\n",
      "140 M     Total params\n",
      "561.105   Total estimated model params size (MB)\n"
     ]
    },
    {
     "data": {
      "application/vnd.jupyter.widget-view+json": {
       "model_id": "bbac6a2fc96942d399b6553a77140817",
       "version_major": 2,
       "version_minor": 0
      },
      "text/plain": [
       "Sanity Checking: |          | 0/? [00:00<?, ?it/s]"
      ]
     },
     "metadata": {},
     "output_type": "display_data"
    },
    {
     "name": "stderr",
     "output_type": "stream",
     "text": [
      "/Users/yulong/Desktop/fyp/nqs-tf2/.conda/lib/python3.10/site-packages/pytorch_lightning/trainer/connectors/data_connector.py:436: Consider setting `persistent_workers=True` in 'val_dataloader' to speed up the dataloader worker initialization.\n",
      "/Users/yulong/Desktop/fyp/nqs-tf2/.conda/lib/python3.10/site-packages/pytorch_lightning/trainer/connectors/data_connector.py:436: Consider setting `persistent_workers=True` in 'train_dataloader' to speed up the dataloader worker initialization.\n",
      "/Users/yulong/Desktop/fyp/nqs-tf2/.conda/lib/python3.10/site-packages/pytorch_lightning/loops/fit_loop.py:298: The number of training batches (11) is smaller than the logging interval Trainer(log_every_n_steps=100). Set a lower value for log_every_n_steps if you want to see logs for the training epoch.\n"
     ]
    },
    {
     "data": {
      "application/vnd.jupyter.widget-view+json": {
       "model_id": "ef0822a5095143fbbfa02c66aecaa2da",
       "version_major": 2,
       "version_minor": 0
      },
      "text/plain": [
       "Training: |          | 0/? [00:00<?, ?it/s]"
      ]
     },
     "metadata": {},
     "output_type": "display_data"
    },
    {
     "name": "stderr",
     "output_type": "stream",
     "text": [
      "/Users/yulong/Desktop/fyp/nqs-tf2/.conda/lib/python3.10/site-packages/pytorch_lightning/trainer/call.py:54: Detected KeyboardInterrupt, attempting graceful shutdown...\n"
     ]
    }
   ],
   "source": [
    "train(args)"
   ]
  },
  {
   "cell_type": "code",
   "execution_count": null,
   "metadata": {},
   "outputs": [],
   "source": []
  }
 ],
 "metadata": {
  "kernelspec": {
   "display_name": "Python 3",
   "language": "python",
   "name": "python3"
  },
  "language_info": {
   "codemirror_mode": {
    "name": "ipython",
    "version": 3
   },
   "file_extension": ".py",
   "mimetype": "text/x-python",
   "name": "python",
   "nbconvert_exporter": "python",
   "pygments_lexer": "ipython3",
   "version": "3.10.13"
  }
 },
 "nbformat": 4,
 "nbformat_minor": 2
}

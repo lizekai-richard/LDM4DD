{
 "cells": [
  {
   "cell_type": "code",
   "execution_count": 1,
   "metadata": {},
   "outputs": [],
   "source": [
    "import os\n",
    "import pandas as pd\n",
    "\n",
    "class_to_idx = {'airplane': 0,\n",
    "                'automobile': 1,\n",
    "                'bird': 2,\n",
    "                'cat': 3,\n",
    "                'deer': 4,\n",
    "                'dog': 5,\n",
    "                'frog': 6,\n",
    "                'horse': 7,\n",
    "                'ship': 8,\n",
    "                'truck': 9}"
   ]
  },
  {
   "cell_type": "markdown",
   "metadata": {},
   "source": [
    "Generate index file for these images"
   ]
  },
  {
   "cell_type": "code",
   "execution_count": 6,
   "metadata": {},
   "outputs": [],
   "source": [
    "def generate_index_file(ipc, class_to_idx):\n",
    "    ipc_root = f'./CIFAR10_Syn_Coreset/ipc{ipc}'\n",
    "    idx_root = f'./coreset_index/'\n",
    "    classes = os.listdir(ipc_root)\n",
    "    entries = []\n",
    "    for cls in classes:\n",
    "        cls_dir = os.path.join(ipc_root, cls)\n",
    "        cls_idx = class_to_idx[cls]\n",
    "        cls_dir = os.path.join(ipc_root, cls)\n",
    "        for image in os.listdir(cls_dir):\n",
    "            entries.append([f'{ipc_root}/{cls}/{image}', cls_idx])\n",
    "\n",
    "    df = pd.DataFrame(entries, columns=['image_path', 'label'])\n",
    "    if not os.path.exists(ipc_root):\n",
    "        os.mkdir(ipc_root)\n",
    "    df.to_csv(f'./{idx_root}/ipc{ipc}_idx.csv', index=False)"
   ]
  },
  {
   "cell_type": "code",
   "execution_count": 7,
   "metadata": {},
   "outputs": [],
   "source": [
    "generate_index_file(1, class_to_idx)"
   ]
  },
  {
   "cell_type": "code",
   "execution_count": 8,
   "metadata": {},
   "outputs": [],
   "source": [
    "generate_index_file(10, class_to_idx)"
   ]
  },
  {
   "cell_type": "code",
   "execution_count": 9,
   "metadata": {},
   "outputs": [],
   "source": [
    "generate_index_file(50, class_to_idx)"
   ]
  },
  {
   "cell_type": "code",
   "execution_count": 10,
   "metadata": {},
   "outputs": [],
   "source": [
    "generate_index_file(500, class_to_idx)"
   ]
  },
  {
   "cell_type": "code",
   "execution_count": 11,
   "metadata": {},
   "outputs": [],
   "source": [
    "generate_index_file(1000, class_to_idx)"
   ]
  }
 ],
 "metadata": {
  "kernelspec": {
   "display_name": "CS5340",
   "language": "python",
   "name": "python3"
  },
  "language_info": {
   "codemirror_mode": {
    "name": "ipython",
    "version": 3
   },
   "file_extension": ".py",
   "mimetype": "text/x-python",
   "name": "python",
   "nbconvert_exporter": "python",
   "pygments_lexer": "ipython3",
   "version": "3.8.10"
  }
 },
 "nbformat": 4,
 "nbformat_minor": 2
}
